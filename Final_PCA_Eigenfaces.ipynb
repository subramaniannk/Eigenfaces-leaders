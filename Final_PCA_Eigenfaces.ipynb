{
  "nbformat": 4,
  "nbformat_minor": 0,
  "metadata": {
    "colab": {
      "name": "Final PCA Eigenfaces.ipynb",
      "provenance": [],
      "authorship_tag": "ABX9TyNSuBSpBjHOMXORQtaYSbbe",
      "include_colab_link": true
    },
    "kernelspec": {
      "name": "python3",
      "display_name": "Python 3"
    }
  },
  "cells": [
    {
      "cell_type": "markdown",
      "metadata": {
        "id": "view-in-github",
        "colab_type": "text"
      },
      "source": [
        "<a href=\"https://colab.research.google.com/github/subramaniannk/Eigenfaces-leaders/blob/main/Final_PCA_Eigenfaces.ipynb\" target=\"_parent\"><img src=\"https://colab.research.google.com/assets/colab-badge.svg\" alt=\"Open In Colab\"/></a>"
      ]
    },
    {
      "cell_type": "code",
      "metadata": {
        "id": "I8sLx1em-pBw"
      },
      "source": [
        "from sklearn.datasets import fetch_lfw_people\n",
        "\n",
        "lfw_people = fetch_lfw_people(min_faces_per_person=60,resize=0.4)\n",
        "\n",
        "X = lfw_people.data\n",
        "\n",
        "y = lfw_people.target\n",
        "\n",
        "target_names = [lfw_people.target_names[a] for a in y]\n",
        "\n",
        "n_samples, h, w = lfw_people.images.shape"
      ],
      "execution_count": 4,
      "outputs": []
    },
    {
      "cell_type": "code",
      "metadata": {
        "id": "N7P_uwQX-rT7",
        "outputId": "47982c2c-f9d6-422b-eda7-ea9ec84e3263",
        "colab": {
          "base_uri": "https://localhost:8080/",
          "height": 284
        }
      },
      "source": [
        "Blair_images=lfw_people.images[11].flatten()\n",
        "from matplotlib import pyplot as plt\n",
        "#plt.imshow(Blair_images)\n",
        "plt.imshow(Blair_images.reshape(50,37))"
      ],
      "execution_count": 5,
      "outputs": [
        {
          "output_type": "execute_result",
          "data": {
            "text/plain": [
              "<matplotlib.image.AxesImage at 0x7f7951bb2cf8>"
            ]
          },
          "metadata": {
            "tags": []
          },
          "execution_count": 5
        },
        {
          "output_type": "display_data",
          "data": {
            "image/png": "[encoded data removed]",
            "text/plain": [
              "<Figure size 432x288 with 1 Axes>"
            ]
          },
          "metadata": {
            "tags": [],
            "needs_background": "light"
          }
        }
      ]
    },
    {
      "cell_type": "code",
      "metadata": {
        "id": "oibRsGxA-0ER"
      },
      "source": [
        "import numpy as np\n",
        "Blair_images=lfw_people.images[8].flatten()\n",
        "Blair_labels=np.array([1,0,0,0])\n",
        "Powell_images=lfw_people.images[0].flatten()\n",
        "Powell_labels=np.array([0,0,1,0])\n",
        "Bush_images=lfw_people.images[1].flatten()\n",
        "Bush_labels=np.array([0,1,0,0])\n",
        "Chavez_images=lfw_people.images[4].flatten()\n",
        "Koizumi_images=lfw_people.images[6].flatten()\n",
        "Sharon_images=lfw_people.images[9].flatten()\n",
        "Schroeder_images=lfw_people.images[70].flatten()\n",
        "Rumsfeld_images=lfw_people.images[11].flatten()\n",
        "Rumsfeld_labels=np.array([0,0,0,1])"
      ],
      "execution_count": 7,
      "outputs": []
    },
    {
      "cell_type": "code",
      "metadata": {
        "id": "SQRCfwE3_A63"
      },
      "source": [
        "import numpy as np\n",
        "for iter in range(12,len(y)):\n",
        "  temp=np.array(lfw_people.images[iter].flatten())\n",
        "  if(target_names[iter]==\"Colin Powell\"):\n",
        "    Powell_images=np.vstack((Powell_images,[temp]))\n",
        "    Powell_labels=np.vstack((Powell_labels,[0,0,1,0]))\n",
        "  if(target_names[iter]==\"Donald Rumsfeld\"):\n",
        "    Rumsfeld_images=np.vstack((Rumsfeld_images,[temp]))\n",
        "    Rumsfeld_labels=np.vstack((Rumsfeld_labels,[0,0,0,1]))\n",
        "  if(target_names[iter]==\"George W Bush\"):\n",
        "    Bush_images=np.vstack((Bush_images,[temp]))\n",
        "    Bush_labels=np.vstack((Bush_labels,[0,1,0,0]))\n",
        "  if(target_names[iter]==\"Tony Blair\"):\n",
        "    Blair_images=np.vstack((Blair_images,[temp]))\n",
        "    Blair_labels=np.vstack((Blair_labels,[1,0,0,0]))"
      ],
      "execution_count": 8,
      "outputs": []
    },
    {
      "cell_type": "code",
      "metadata": {
        "id": "tPMtE_0H_V7p"
      },
      "source": [
        "train_Blair=Blair_images[0:110]\n",
        "trainlabels_Blair=Blair_labels[0:110]\n",
        "test_Blair=Blair_images[90:120]\n",
        "testlabels_Blair=Blair_labels[90:120]\n",
        "train_Bush=Bush_images[0:110]\n",
        "trainlabels_Bush=Bush_labels[0:110]\n",
        "test_Bush=Bush_images[90:120]\n",
        "testlabels_Bush=Bush_labels[90:120]\n",
        "train_Powell=Powell_images[0:110]\n",
        "trainlabels_Powell=Powell_labels[0:110]\n",
        "test_Powell=Powell_images[90:120]\n",
        "testlabels_Powell=Powell_labels[90:120]\n",
        "train_Rumsfeld=Rumsfeld_images[0:110]\n",
        "trainlabels_Rumsfeld=Rumsfeld_labels[0:110]\n",
        "test_Rumsfeld=Rumsfeld_images[90:120]\n",
        "testlabels_Rumsfeld=Rumsfeld_labels[90:120]"
      ],
      "execution_count": 9,
      "outputs": []
    },
    {
      "cell_type": "code",
      "metadata": {
        "id": "tVCj6oT-AnBn"
      },
      "source": [
        "train_images=np.vstack([train_Blair,train_Bush,train_Powell,train_Rumsfeld])\n",
        "\n"
      ],
      "execution_count": 10,
      "outputs": []
    },
    {
      "cell_type": "code",
      "metadata": {
        "id": "SgbPNcUIAn3_"
      },
      "source": [
        "U, S, VT = np.linalg.svd(train_images,full_matrices=False)\n",
        "S = np.diag(S)"
      ],
      "execution_count": 11,
      "outputs": []
    },
    {
      "cell_type": "code",
      "metadata": {
        "id": "I5OKSDvaD_hY",
        "outputId": "b2e196db-d44b-4afb-dfd4-6c008edc4be5",
        "colab": {
          "base_uri": "https://localhost:8080/"
        }
      },
      "source": [
        "feature_space=VT[:30,:]\n",
        "features_train=(feature_space@(train_images.T)).T\n",
        "features_train[0]"
      ],
      "execution_count": 12,
      "outputs": [
        {
          "output_type": "execute_result",
          "data": {
            "text/plain": [
              "array([-6.5009595e+03, -2.3098790e+02,  6.7025665e+02, -3.6748053e+02,\n",
              "        1.5141577e+02, -3.3841791e+02,  8.1390869e+01, -1.8542021e+02,\n",
              "        5.4383887e+02, -2.8108459e+01,  6.8208252e+01, -1.7796399e+02,\n",
              "        1.9677182e+02, -1.3599963e+02,  1.5354019e+01,  2.6623389e+02,\n",
              "       -1.2232593e+02,  1.3014841e+02, -5.9188011e+01,  2.2246948e+02,\n",
              "       -2.4460501e+02,  8.0503113e+01, -5.2266068e+01,  2.7134083e+01,\n",
              "       -4.6811638e+00,  1.5777756e+02, -2.9302742e+01,  1.4213654e+01,\n",
              "       -5.1215115e+01,  8.0779114e+00], dtype=float32)"
            ]
          },
          "metadata": {
            "tags": []
          },
          "execution_count": 12
        }
      ]
    },
    {
      "cell_type": "code",
      "metadata": {
        "id": "1BwNT32JEBXG"
      },
      "source": [
        "Blair_TransformedTrain=(feature_space@(train_Blair.T)).T\n",
        "Bush_TransformedTrain=(feature_space@(train_Bush.T)).T\n",
        "Powell_TransformedTrain=(feature_space@(train_Powell.T)).T\n",
        "Rumsfeld_TransformedTrain=(feature_space@(train_Rumsfeld.T)).T\n",
        "Blair_TransformedTest=(feature_space@(test_Blair.T)).T\n",
        "Bush_TransformedTest=(feature_space@(test_Bush.T)).T\n",
        "Powell_TransformedTest=(feature_space@(test_Powell.T)).T\n",
        "Rumsfeld_TransformedTest=(feature_space@(test_Rumsfeld.T)).T"
      ],
      "execution_count": 13,
      "outputs": []
    },
    {
      "cell_type": "code",
      "metadata": {
        "id": "cu9z89uzFtUd"
      },
      "source": [
        "Test_images=np.vstack([Blair_TransformedTest,Bush_TransformedTest,Powell_TransformedTest,Rumsfeld_TransformedTest])\n",
        "Test_labels=np.vstack([testlabels_Blair,testlabels_Bush,testlabels_Powell,testlabels_Rumsfeld])\n"
      ],
      "execution_count": 14,
      "outputs": []
    },
    {
      "cell_type": "code",
      "metadata": {
        "id": "hweHJ7J6F5P9"
      },
      "source": [
        "temp=Bush_TransformedTest[16]"
      ],
      "execution_count": 15,
      "outputs": []
    },
    {
      "cell_type": "code",
      "metadata": {
        "id": "tjvB8gFPJm7N",
        "outputId": "4d31a426-7d40-4fdc-fa43-5d4f0b818899",
        "colab": {
          "base_uri": "https://localhost:8080/"
        }
      },
      "source": [
        "k=3\n",
        "for temp in range(0,len(Test_images)):\n",
        "  temp_images=Test_images[temp]\n",
        "  A=np.sort(np.sum((Blair_TransformedTrain-temp_images)*(Blair_TransformedTrain-temp_images), axis=1))\n",
        "  Blair_estimate=np.sum(A[:k])/k\n",
        "  B=np.sort(np.sum((Bush_TransformedTrain-temp_images)*(Bush_TransformedTrain-temp_images), axis=1))\n",
        "  Bush_estimate=np.sum(B[:k])/k\n",
        "  C=np.sort(np.sum((Powell_TransformedTrain-temp_images)*(Powell_TransformedTrain-temp_images), axis=1))\n",
        "  Powell_estimate=np.sum(C[:k])/k\n",
        "  D=np.sort(np.sum((Rumsfeld_TransformedTrain-temp_images)*(Rumsfeld_TransformedTrain-temp_images), axis=1))\n",
        "  Rumsfeld_estimate=np.sum(D[:k])/k\n",
        "  estimates=np.array([Blair_estimate, Bush_estimate, Powell_estimate,Rumsfeld_estimate])\n",
        "  min_value=min(estimates)\n",
        "  if(temp==0):\n",
        "    ans=1*np.array(estimates==min_value)\n",
        "  else:\n",
        "    ans=np.vstack((ans,[1*np.array(estimates==min_value)]))\n",
        "\n",
        "\n",
        "print(\"accuracy:\" +str(np.sum(ans*Test_labels)/len(ans)))\n",
        "  "
      ],
      "execution_count": 17,
      "outputs": [
        {
          "output_type": "stream",
          "text": [
            "accuracy:0.8916666666666667\n"
          ],
          "name": "stdout"
        }
      ]
    },
    {
      "cell_type": "code",
      "metadata": {
        "id": "8W9sEVcjJ0Lf",
        "outputId": "8522047d-b634-49be-a022-c4831be7327a",
        "colab": {
          "base_uri": "https://localhost:8080/"
        }
      },
      "source": [
        ""
      ],
      "execution_count": null,
      "outputs": [
        {
          "output_type": "stream",
          "text": [
            "0.7083333333333334\n"
          ],
          "name": "stdout"
        }
      ]
    },
    {
      "cell_type": "code",
      "metadata": {
        "id": "6fREHF5TJ4VT",
        "outputId": "5935bde2-ca03-4286-9781-7b50cb50584d",
        "colab": {
          "base_uri": "https://localhost:8080/"
        }
      },
      "source": [
        ""
      ],
      "execution_count": null,
      "outputs": [
        {
          "output_type": "execute_result",
          "data": {
            "text/plain": [
              "120"
            ]
          },
          "metadata": {
            "tags": []
          },
          "execution_count": 491
        }
      ]
    },
    {
      "cell_type": "code",
      "metadata": {
        "id": "cj5ZETVbKPHr"
      },
      "source": [
        ""
      ],
      "execution_count": null,
      "outputs": []
    },
    {
      "cell_type": "code",
      "metadata": {
        "id": "vyOaVDOvRAwb"
      },
      "source": [
        ""
      ],
      "execution_count": null,
      "outputs": []
    },
    {
      "cell_type": "code",
      "metadata": {
        "id": "7E7PJaP-RHn5"
      },
      "source": [
        ""
      ],
      "execution_count": null,
      "outputs": []
    },
    {
      "cell_type": "code",
      "metadata": {
        "id": "tk4qPRkdSVMC"
      },
      "source": [
        ""
      ],
      "execution_count": null,
      "outputs": []
    },
    {
      "cell_type": "code",
      "metadata": {
        "id": "HVfcu0-kS-c6"
      },
      "source": [
        ""
      ],
      "execution_count": null,
      "outputs": []
    },
    {
      "cell_type": "code",
      "metadata": {
        "id": "WRVR5u70Tia3"
      },
      "source": [
        ""
      ],
      "execution_count": null,
      "outputs": []
    },
    {
      "cell_type": "code",
      "metadata": {
        "id": "WQKSr0vUTnKn"
      },
      "source": [
        ""
      ],
      "execution_count": null,
      "outputs": []
    },
    {
      "cell_type": "code",
      "metadata": {
        "id": "gpMQE4JHTqIa"
      },
      "source": [
        "\n"
      ],
      "execution_count": 1,
      "outputs": []
    },
    {
      "cell_type": "code",
      "metadata": {
        "id": "AjVeG-80Tt9v"
      },
      "source": [
        ""
      ],
      "execution_count": 1,
      "outputs": []
    },
    {
      "cell_type": "code",
      "metadata": {
        "id": "ei6UKW1gT_Rw"
      },
      "source": [
        "\n",
        "\n"
      ],
      "execution_count": null,
      "outputs": []
    },
    {
      "cell_type": "code",
      "metadata": {
        "id": "qweGy5H8UKSJ"
      },
      "source": [
        ""
      ],
      "execution_count": null,
      "outputs": []
    },
    {
      "cell_type": "code",
      "metadata": {
        "id": "UL-OVDUpUQxJ"
      },
      "source": [
        ""
      ],
      "execution_count": null,
      "outputs": []
    },
    {
      "cell_type": "code",
      "metadata": {
        "id": "NS5jitjIvuXX"
      },
      "source": [
        ""
      ],
      "execution_count": null,
      "outputs": []
    },
    {
      "cell_type": "code",
      "metadata": {
        "id": "71JZP9TAwJr6"
      },
      "source": [
        ""
      ],
      "execution_count": null,
      "outputs": []
    },
    {
      "cell_type": "code",
      "metadata": {
        "id": "NzbVCqHmwJ3W"
      },
      "source": [
        ""
      ],
      "execution_count": null,
      "outputs": []
    },
    {
      "cell_type": "code",
      "metadata": {
        "id": "f0lMskEywKA-"
      },
      "source": [
        ""
      ],
      "execution_count": null,
      "outputs": []
    },
    {
      "cell_type": "code",
      "metadata": {
        "id": "MIBpO-kowKL4"
      },
      "source": [
        ""
      ],
      "execution_count": null,
      "outputs": []
    },
    {
      "cell_type": "code",
      "metadata": {
        "id": "M1dp8notwSfe"
      },
      "source": [
        ""
      ],
      "execution_count": null,
      "outputs": []
    }
  ]
}